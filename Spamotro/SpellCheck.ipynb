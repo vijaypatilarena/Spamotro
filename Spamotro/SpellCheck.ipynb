{
 "cells": [
  {
   "cell_type": "code",
   "execution_count": 1,
   "id": "d48a6434",
   "metadata": {},
   "outputs": [],
   "source": [
    "from tkinter import *\n",
    "from textblob import TextBlob"
   ]
  },
  {
   "cell_type": "code",
   "execution_count": 2,
   "id": "f2fc7231",
   "metadata": {},
   "outputs": [],
   "source": [
    "def load_dataset(file_path):\n",
    "    dataset = {}\n",
    "    with open(file_path, 'r') as file:\n",
    "        for line in file:\n",
    "            correct_word, wrong_word = line.strip().split(':')\n",
    "            dataset[wrong_word] = correct_word\n",
    "    return dataset"
   ]
  },
  {
   "cell_type": "code",
   "execution_count": null,
   "id": "5c20a1b7",
   "metadata": {},
   "outputs": [],
   "source": [
    "def check_spelling():\n",
    "    text = spell_check.get()\n",
    "    blob = TextBlob(text)\n",
    "    misspelled_words = []\n",
    "    corrected_words = []\n",
    "    for word in blob.words:\n",
    "        if word.spellcheck()[0][0] != word:\n",
    "            misspelled_words.append(word)\n",
    "            corrected_words.append(word.spellcheck()[0][0])\n",
    "            # Display the corrected words, if any\n",
    "    if len(corrected_words) == 0:\n",
    "        not_found_text.config(text=\"No misspelled words found!\")\n",
    "    else:\n",
    "        corrected_text = \"Corrected text:\"\n",
    "    for i in range(len(misspelled_words)):\n",
    "        corrected_text += f\"\\n{misspelled_words[i]} -> {corrected_words[i]}\"\n",
    "        not_found_text.config(text=corrected_text)\n",
    "    \n",
    "window =Tk()\n",
    "window.title(\"Spelling Checker\")\n",
    "window.geometry(\"1500x800\")\n",
    "window.config(background=\"yellow\")\n",
    "\n",
    "text_heading = Label(window, text=\"Spelling Checker\", font=(\"Arial\", 50, \"bold\"), bg=\"black\", fg=\"lightpink\")\n",
    "text_heading.pack()\n",
    "\n",
    "text_check = Label(window, text=\"Enter your text or word\", font=(\"Arial\", 30, \"bold\"), bg=\"black\", fg=\"pink\")\n",
    "text_check.pack()\n",
    "\n",
    "spell_check = Entry(window, font=(\"Arial\", 20, \"bold\"), bg=\"orange\", width=200)\n",
    "spell_check.pack()\n",
    "\n",
    "check_button = Button(window, text=\"Check!\", font=(\"Arial\", 30, \"bold\"), bg=\"orange\", fg=\"white\", command=check_spelling)\n",
    "check_button.pack()\n",
    "\n",
    "not_found_text = Label(window, text=\"\", font=(\"Arial\", 15, \"bold\"), bg=\"red\")\n",
    "not_found_text.pack()\n",
    "\n",
    "# Load the dataset from an external file\n",
    "dataset = load_dataset(\"C:/aspell.txt\")\n",
    "\n",
    "window.mainloop()\n"
   ]
  },
  {
   "cell_type": "code",
   "execution_count": null,
   "id": "1760d89f",
   "metadata": {},
   "outputs": [],
   "source": []
  }
 ],
 "metadata": {
  "kernelspec": {
   "display_name": "Python 3 (ipykernel)",
   "language": "python",
   "name": "python3"
  },
  "language_info": {
   "codemirror_mode": {
    "name": "ipython",
    "version": 3
   },
   "file_extension": ".py",
   "mimetype": "text/x-python",
   "name": "python",
   "nbconvert_exporter": "python",
   "pygments_lexer": "ipython3",
   "version": "3.9.13"
  }
 },
 "nbformat": 4,
 "nbformat_minor": 5
}
